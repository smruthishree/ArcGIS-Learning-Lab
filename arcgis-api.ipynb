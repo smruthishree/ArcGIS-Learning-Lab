{
 "cells": [
  {
   "cell_type": "markdown",
   "metadata": {},
   "source": [
    "## Welcome to your notebook.\n"
   ]
  },
  {
   "cell_type": "markdown",
   "metadata": {},
   "source": [
    "#### Run this cell to connect to your GIS and get started:"
   ]
  },
  {
   "cell_type": "code",
   "execution_count": 7,
   "metadata": {},
   "outputs": [
    {
     "name": "stderr",
     "output_type": "stream",
     "text": [
      "/opt/conda/lib/python3.9/site-packages/arcgis/gis/__init__.py:676: UserWarning: You are logged on as Smruthishree.Srinivasa@hereon.de with an administrator role, proceed with caution.\n",
      "  warnings.warn(\n"
     ]
    }
   ],
   "source": [
    "from arcgis.gis import GIS\n",
    "gis = GIS(\"home\")"
   ]
  },
  {
   "cell_type": "markdown",
   "metadata": {},
   "source": [
    "#### Now you are ready to start!"
   ]
  },
  {
   "cell_type": "code",
   "execution_count": 1,
   "metadata": {},
   "outputs": [
    {
     "data": {
      "application/vnd.jupyter.widget-view+json": {
       "model_id": "6339af761b6e479eac58f78fc8814ce1",
       "version_major": 2,
       "version_minor": 0
      },
      "text/plain": [
       "MapView(layout=Layout(height='400px', width='100%'))"
      ]
     },
     "metadata": {},
     "output_type": "display_data"
    },
    {
     "data": {
      "text/html": [
       "<div class=\"map-static-img-preview-87e8a416-1009-4ea8-9702-822aabcf6a65\"><img src=\"\"></img></div>"
      ],
      "text/plain": [
       "<IPython.core.display.HTML object>"
      ]
     },
     "metadata": {},
     "output_type": "display_data"
    },
    {
     "data": {
      "text/html": [
       "<div class=\"map-html-embed-preview-87e8a416-1009-4ea8-9702-822aabcf6a65\"></div>"
      ],
      "text/plain": [
       "<IPython.core.display.HTML object>"
      ]
     },
     "metadata": {},
     "output_type": "display_data"
    }
   ],
   "source": [
    "from arcgis.gis import GIS\n",
    "\n",
    "gis = GIS()\n",
    "\n",
    "myMap = gis.map(\"Cubbon park, Bangalore\")\n",
    "\n",
    "myMap.basemap = 'streets'\n",
    "\n",
    "myMap.zoom = 15\n",
    "\n",
    "myMap"
   ]
  },
  {
   "cell_type": "code",
   "execution_count": 2,
   "metadata": {},
   "outputs": [
    {
     "data": {
      "application/vnd.jupyter.widget-view+json": {
       "model_id": "2f65135ea155465eac070b4d31e01c5b",
       "version_major": 2,
       "version_minor": 0
      },
      "text/plain": [
       "MapView(layout=Layout(height='400px', width='100%'))"
      ]
     },
     "metadata": {},
     "output_type": "display_data"
    },
    {
     "data": {
      "text/html": [
       "<div class=\"map-static-img-preview-41059015-59fb-46a4-b40b-b83cc901e269\"><img src=\"\"></img></div>"
      ],
      "text/plain": [
       "<IPython.core.display.HTML object>"
      ]
     },
     "metadata": {},
     "output_type": "display_data"
    },
    {
     "data": {
      "text/html": [
       "<div class=\"map-html-embed-preview-41059015-59fb-46a4-b40b-b83cc901e269\"></div>"
      ],
      "text/plain": [
       "<IPython.core.display.HTML object>"
      ]
     },
     "metadata": {},
     "output_type": "display_data"
    }
   ],
   "source": [
    "from arcgis.gis import GIS\n",
    "\n",
    "gis = GIS()\n",
    "\n",
    "myMap1 = gis.map(\"CoxBazar beach, Bangladesh\")\n",
    "\n",
    "myMap1.basemap = 'streets'\n",
    "\n",
    "myMap1.zoom = 10\n",
    "\n",
    "myMap1"
   ]
  },
  {
   "cell_type": "code",
   "execution_count": 3,
   "metadata": {},
   "outputs": [
    {
     "data": {
      "application/vnd.jupyter.widget-view+json": {
       "model_id": "e535229d7fd94a5a9209b08d6ee753bf",
       "version_major": 2,
       "version_minor": 0
      },
      "text/plain": [
       "MapView(layout=Layout(height='400px', width='100%'))"
      ]
     },
     "metadata": {},
     "output_type": "display_data"
    },
    {
     "data": {
      "text/html": [
       "<div class=\"map-static-img-preview-1a23c470-f9a2-48d3-8a8e-39caf5d8b06f\"><img src=\"\"></img></div>"
      ],
      "text/plain": [
       "<IPython.core.display.HTML object>"
      ]
     },
     "metadata": {},
     "output_type": "display_data"
    },
    {
     "data": {
      "text/html": [
       "<div class=\"map-html-embed-preview-1a23c470-f9a2-48d3-8a8e-39caf5d8b06f\"></div>"
      ],
      "text/plain": [
       "<IPython.core.display.HTML object>"
      ]
     },
     "metadata": {},
     "output_type": "display_data"
    }
   ],
   "source": [
    "from arcgis.gis import GIS\n",
    "from arcgis.features import FeatureLayer\n",
    "\n",
    "# Create a GIS object for an ArcGIS Online session\n",
    "gis = GIS()\n",
    "\n",
    "# URL of the ArcGIS REST API endpoint\n",
    "layer_url1 = \"https://livingatlas.esri.in/server1/rest/services/Mining/IN_MineralDeposits/MapServer/3\"\n",
    "\n",
    "# Create a FeatureLayer object\n",
    "feature_layer = FeatureLayer(layer_url1)\n",
    "\n",
    "# Create a map centered around India\n",
    "map1 = gis.map('India', zoomlevel=5)\n",
    "\n",
    "# Add the feature layer to the map\n",
    "map1.add_layer(feature_layer)\n",
    "\n",
    "# Display the map\n",
    "map1\n"
   ]
  },
  {
   "cell_type": "code",
   "execution_count": 4,
   "metadata": {
    "scrolled": true
   },
   "outputs": [
    {
     "data": {
      "application/vnd.jupyter.widget-view+json": {
       "model_id": "cef01cec9b444f4dbb10cd13a16dfabd",
       "version_major": 2,
       "version_minor": 0
      },
      "text/plain": [
       "MapView(layout=Layout(height='400px', width='100%'))"
      ]
     },
     "metadata": {},
     "output_type": "display_data"
    },
    {
     "data": {
      "text/html": [
       "<div class=\"map-static-img-preview-840b6a00-4f4c-4d55-a616-13b81c7e2e7d\"><img src=\"\"></img></div>"
      ],
      "text/plain": [
       "<IPython.core.display.HTML object>"
      ]
     },
     "metadata": {},
     "output_type": "display_data"
    },
    {
     "data": {
      "text/html": [
       "<div class=\"map-html-embed-preview-840b6a00-4f4c-4d55-a616-13b81c7e2e7d\"></div>"
      ],
      "text/plain": [
       "<IPython.core.display.HTML object>"
      ]
     },
     "metadata": {},
     "output_type": "display_data"
    }
   ],
   "source": [
    "from arcgis.gis import GIS\n",
    "from arcgis.features import FeatureLayer\n",
    "\n",
    "# Create a GIS object for an ArcGIS Online session\n",
    "gis = GIS()\n",
    "\n",
    "# URL of the ArcGIS REST API endpoint\n",
    "layer_url = \"https://services2.arcgis.com/jUpNdisbWqRpMo35/arcgis/rest/services/HH_ALKIS_Stadtteile_2016/FeatureServer/0\"\n",
    "\n",
    "# Create a FeatureLayer object\n",
    "stadtteile = FeatureLayer(layer_url)\n",
    "\n",
    "# Create a map centered around India\n",
    "hamburg_map = gis.map('Hamburg', zoomlevel=10)\n",
    "\n",
    "layer_options = {\"opacity\":0.5}\n",
    "\n",
    "# Add the feature layer to the map\n",
    "hamburg_map.add_layer(stadtteile, layer_options)\n",
    "\n",
    "# Display the map\n",
    "hamburg_map\n"
   ]
  },
  {
   "cell_type": "code",
   "execution_count": 26,
   "metadata": {},
   "outputs": [],
   "source": [
    "import pandas as pd"
   ]
  },
  {
   "cell_type": "code",
   "execution_count": 55,
   "metadata": {},
   "outputs": [],
   "source": [
    "features = stadttile.query()"
   ]
  },
  {
   "cell_type": "code",
   "execution_count": 56,
   "metadata": {},
   "outputs": [
    {
     "data": {
      "text/html": [
       "<div>\n",
       "<style scoped>\n",
       "    .dataframe tbody tr th:only-of-type {\n",
       "        vertical-align: middle;\n",
       "    }\n",
       "\n",
       "    .dataframe tbody tr th {\n",
       "        vertical-align: top;\n",
       "    }\n",
       "\n",
       "    .dataframe thead th {\n",
       "        text-align: right;\n",
       "    }\n",
       "</style>\n",
       "<table border=\"1\" class=\"dataframe\">\n",
       "  <thead>\n",
       "    <tr style=\"text-align: right;\">\n",
       "      <th></th>\n",
       "      <th>OBJECTID</th>\n",
       "      <th>bezirk</th>\n",
       "      <th>bezirk_name</th>\n",
       "      <th>stadtteil_name</th>\n",
       "      <th>stadtteil_schluessel</th>\n",
       "      <th>stadtteil_nummer</th>\n",
       "      <th>Shape__Area</th>\n",
       "      <th>Shape__Length</th>\n",
       "      <th>SHAPE</th>\n",
       "    </tr>\n",
       "  </thead>\n",
       "  <tbody>\n",
       "    <tr>\n",
       "      <th>0</th>\n",
       "      <td>1</td>\n",
       "      <td>1</td>\n",
       "      <td>Hamburg-Mitte</td>\n",
       "      <td>Hamburg-Altstadt</td>\n",
       "      <td>02101</td>\n",
       "      <td>101</td>\n",
       "      <td>3676562.255859</td>\n",
       "      <td>9028.180532</td>\n",
       "      <td>{\"rings\": [[[1113865.8214, 7085107.3326], [111...</td>\n",
       "    </tr>\n",
       "    <tr>\n",
       "      <th>1</th>\n",
       "      <td>2</td>\n",
       "      <td>1</td>\n",
       "      <td>Hamburg-Mitte</td>\n",
       "      <td>HafenCity</td>\n",
       "      <td>02102</td>\n",
       "      <td>102</td>\n",
       "      <td>6860720.381348</td>\n",
       "      <td>13902.691334</td>\n",
       "      <td>{\"rings\": [[[1113043.8824, 7082944.3864], [111...</td>\n",
       "    </tr>\n",
       "    <tr>\n",
       "      <th>2</th>\n",
       "      <td>3</td>\n",
       "      <td>1</td>\n",
       "      <td>Hamburg-Mitte</td>\n",
       "      <td>Neustadt</td>\n",
       "      <td>02103</td>\n",
       "      <td>103</td>\n",
       "      <td>6395226.119141</td>\n",
       "      <td>11133.923114</td>\n",
       "      <td>{\"rings\": [[[1112508.4757, 7085835.1607], [111...</td>\n",
       "    </tr>\n",
       "    <tr>\n",
       "      <th>3</th>\n",
       "      <td>4</td>\n",
       "      <td>1</td>\n",
       "      <td>Hamburg-Mitte</td>\n",
       "      <td>St. Pauli</td>\n",
       "      <td>02104</td>\n",
       "      <td>104</td>\n",
       "      <td>6343532.836426</td>\n",
       "      <td>15968.675123</td>\n",
       "      <td>{\"rings\": [[[1109116.5491, 7084327.397], [1109...</td>\n",
       "    </tr>\n",
       "    <tr>\n",
       "      <th>4</th>\n",
       "      <td>5</td>\n",
       "      <td>1</td>\n",
       "      <td>Hamburg-Mitte</td>\n",
       "      <td>St. Georg</td>\n",
       "      <td>02105</td>\n",
       "      <td>105</td>\n",
       "      <td>5155060.816895</td>\n",
       "      <td>9795.65067</td>\n",
       "      <td>{\"rings\": [[[1114563.8303, 7085359.6626], [111...</td>\n",
       "    </tr>\n",
       "  </tbody>\n",
       "</table>\n",
       "</div>"
      ],
      "text/plain": [
       "   OBJECTID bezirk    bezirk_name    stadtteil_name stadtteil_schluessel  \\\n",
       "0         1      1  Hamburg-Mitte  Hamburg-Altstadt                02101   \n",
       "1         2      1  Hamburg-Mitte         HafenCity                02102   \n",
       "2         3      1  Hamburg-Mitte          Neustadt                02103   \n",
       "3         4      1  Hamburg-Mitte         St. Pauli                02104   \n",
       "4         5      1  Hamburg-Mitte         St. Georg                02105   \n",
       "\n",
       "  stadtteil_nummer     Shape__Area  Shape__Length  \\\n",
       "0              101  3676562.255859    9028.180532   \n",
       "1              102  6860720.381348   13902.691334   \n",
       "2              103  6395226.119141   11133.923114   \n",
       "3              104  6343532.836426   15968.675123   \n",
       "4              105  5155060.816895     9795.65067   \n",
       "\n",
       "                                               SHAPE  \n",
       "0  {\"rings\": [[[1113865.8214, 7085107.3326], [111...  \n",
       "1  {\"rings\": [[[1113043.8824, 7082944.3864], [111...  \n",
       "2  {\"rings\": [[[1112508.4757, 7085835.1607], [111...  \n",
       "3  {\"rings\": [[[1109116.5491, 7084327.397], [1109...  \n",
       "4  {\"rings\": [[[1114563.8303, 7085359.6626], [111...  "
      ]
     },
     "execution_count": 56,
     "metadata": {},
     "output_type": "execute_result"
    }
   ],
   "source": [
    "stadtteile_df = features.sdf\n",
    "\n",
    "# Display the first few rows of the attribute table\n",
    "stadtteile_df.head(5)"
   ]
  },
  {
   "cell_type": "code",
   "execution_count": 61,
   "metadata": {},
   "outputs": [
    {
     "data": {
      "application/vnd.jupyter.widget-view+json": {
       "model_id": "2f90f9c2e17b4960b08daf8ca1878003",
       "version_major": 2,
       "version_minor": 0
      },
      "text/plain": [
       "MapView(layout=Layout(height='400px', width='100%'))"
      ]
     },
     "metadata": {},
     "output_type": "display_data"
    },
    {
     "data": {
      "text/html": [
       "<div class=\"map-static-img-preview-98033d79-1690-4031-b270-ece4be4b52d7\"><img src=\"\"></img></div>"
      ],
      "text/plain": [
       "<IPython.core.display.HTML object>"
      ]
     },
     "metadata": {},
     "output_type": "display_data"
    },
    {
     "data": {
      "text/html": [
       "<div class=\"map-html-embed-preview-98033d79-1690-4031-b270-ece4be4b52d7\"></div>"
      ],
      "text/plain": [
       "<IPython.core.display.HTML object>"
      ]
     },
     "metadata": {},
     "output_type": "display_data"
    }
   ],
   "source": [
    "from arcgis.gis import GIS\n",
    "from arcgis.features import FeatureLayer\n",
    "\n",
    "# Create a GIS object for an ArcGIS Online session\n",
    "gis = GIS()\n",
    "\n",
    "# URL of the ArcGIS REST API endpoint\n",
    "layer_url = \"https://services2.arcgis.com/jUpNdisbWqRpMo35/arcgis/rest/services/Berlin_Kleingartenbestand/FeatureServer/0\"\n",
    "\n",
    "# Create a FeatureLayer object\n",
    "kleingarten = FeatureLayer(layer_url)\n",
    "\n",
    "# Create a map centered around India\n",
    "berlin_map = gis.map('Berlin', zoomlevel=5)\n",
    "\n",
    "#layer_options = {\"opacity\":0.7}\n",
    "\n",
    "# Add the feature layer to the map\n",
    "berlin_map.add_layer(kleingarten)\n",
    "\n",
    "# Display the map\n",
    "berlin_map\n"
   ]
  },
  {
   "cell_type": "code",
   "execution_count": null,
   "metadata": {},
   "outputs": [],
   "source": [
    "a. check if data includes time attributes for time series\n",
    "b. create a demo dashboard"
   ]
  }
 ],
 "metadata": {
  "esriNotebookRuntime": {
   "notebookRuntimeName": "ArcGIS Notebook Python 3 Standard",
   "notebookRuntimeVersion": "8.0"
  },
  "kernelspec": {
   "display_name": "Python 3 (ipykernel)",
   "language": "python",
   "name": "python3"
  },
  "language_info": {
   "codemirror_mode": {
    "name": "ipython",
    "version": 3
   },
   "file_extension": ".py",
   "mimetype": "text/x-python",
   "name": "python",
   "nbconvert_exporter": "python",
   "pygments_lexer": "ipython3",
   "version": "3.9.16"
  }
 },
 "nbformat": 4,
 "nbformat_minor": 2
}
